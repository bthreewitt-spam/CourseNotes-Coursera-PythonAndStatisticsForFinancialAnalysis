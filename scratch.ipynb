{
 "cells": [
  {
   "cell_type": "code",
   "execution_count": 17,
   "metadata": {
    "collapsed": true
   },
   "outputs": [],
   "source": [
    "import pandas as pd\n",
    "fb = pd.read_csv('data/microsoft_daily.csv', index_col=[0])"
   ]
  },
  {
   "cell_type": "code",
   "execution_count": 18,
   "outputs": [
    {
     "name": "stdout",
     "output_type": "stream",
     "text": [
      "$232.9\n"
     ]
    }
   ],
   "source": [
    "print(fb.iloc[0, 0])"
   ],
   "metadata": {
    "collapsed": false
   }
  },
  {
   "cell_type": "code",
   "execution_count": 24,
   "outputs": [
    {
     "data": {
      "text/plain": "           Close/Last    Volume      Open     High      Low\nDate                                                       \n09/30/2022     $232.9  35694830   $238.29  $240.54  $232.73\n09/29/2022     $237.5  27484230   $238.89  $239.95  $234.41\n09/28/2022    $241.07  29029680   $236.81  $242.33  $234.73\n09/27/2022    $236.41  27018730   $239.98   $241.8   $234.5\n09/26/2022    $237.45  27694190  $237.045  $241.45   $236.9",
      "text/html": "<div>\n<style scoped>\n    .dataframe tbody tr th:only-of-type {\n        vertical-align: middle;\n    }\n\n    .dataframe tbody tr th {\n        vertical-align: top;\n    }\n\n    .dataframe thead th {\n        text-align: right;\n    }\n</style>\n<table border=\"1\" class=\"dataframe\">\n  <thead>\n    <tr style=\"text-align: right;\">\n      <th></th>\n      <th>Close/Last</th>\n      <th>Volume</th>\n      <th>Open</th>\n      <th>High</th>\n      <th>Low</th>\n    </tr>\n    <tr>\n      <th>Date</th>\n      <th></th>\n      <th></th>\n      <th></th>\n      <th></th>\n      <th></th>\n    </tr>\n  </thead>\n  <tbody>\n    <tr>\n      <th>09/30/2022</th>\n      <td>$232.9</td>\n      <td>35694830</td>\n      <td>$238.29</td>\n      <td>$240.54</td>\n      <td>$232.73</td>\n    </tr>\n    <tr>\n      <th>09/29/2022</th>\n      <td>$237.5</td>\n      <td>27484230</td>\n      <td>$238.89</td>\n      <td>$239.95</td>\n      <td>$234.41</td>\n    </tr>\n    <tr>\n      <th>09/28/2022</th>\n      <td>$241.07</td>\n      <td>29029680</td>\n      <td>$236.81</td>\n      <td>$242.33</td>\n      <td>$234.73</td>\n    </tr>\n    <tr>\n      <th>09/27/2022</th>\n      <td>$236.41</td>\n      <td>27018730</td>\n      <td>$239.98</td>\n      <td>$241.8</td>\n      <td>$234.5</td>\n    </tr>\n    <tr>\n      <th>09/26/2022</th>\n      <td>$237.45</td>\n      <td>27694190</td>\n      <td>$237.045</td>\n      <td>$241.45</td>\n      <td>$236.9</td>\n    </tr>\n  </tbody>\n</table>\n</div>"
     },
     "execution_count": 24,
     "metadata": {},
     "output_type": "execute_result"
    }
   ],
   "source": [
    "fb.head()"
   ],
   "metadata": {
    "collapsed": false
   }
  },
  {
   "cell_type": "code",
   "execution_count": 26,
   "outputs": [
    {
     "data": {
      "text/plain": "'$238.29'"
     },
     "execution_count": 26,
     "metadata": {},
     "output_type": "execute_result"
    }
   ],
   "source": [
    "fb.loc['09/30/2022', 'Open']"
   ],
   "metadata": {
    "collapsed": false
   }
  }
 ],
 "metadata": {
  "kernelspec": {
   "display_name": "Python 3",
   "language": "python",
   "name": "python3"
  },
  "language_info": {
   "codemirror_mode": {
    "name": "ipython",
    "version": 2
   },
   "file_extension": ".py",
   "mimetype": "text/x-python",
   "name": "python",
   "nbconvert_exporter": "python",
   "pygments_lexer": "ipython2",
   "version": "2.7.6"
  }
 },
 "nbformat": 4,
 "nbformat_minor": 0
}
